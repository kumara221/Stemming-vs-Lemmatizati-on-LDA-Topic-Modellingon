{
 "cells": [
  {
   "cell_type": "code",
   "execution_count": null,
   "id": "d95dae30",
   "metadata": {},
   "outputs": [],
   "source": [
    "import pandas as pd\n",
    "import json\n",
    "import os\n",
    "import nltk\n",
    "from nltk.corpus import stopwords\n",
    "from nltk.stem import PorterStemmer"
   ]
  },
  {
   "cell_type": "code",
   "execution_count": null,
   "id": "94c7a66c",
   "metadata": {},
   "outputs": [],
   "source": [
    "raw_path = './../../data/raw/abstracts_only.json'\n",
    "clean_path = './../../data/cleaned/cleaned_abstracts_stemming.json'"
   ]
  },
  {
   "cell_type": "code",
   "execution_count": null,
   "id": "58ec8100",
   "metadata": {},
   "outputs": [],
   "source": [
    "with open(raw_path, \"r\", encoding=\"utf-8\") as f:\n",
    "    data = json.load(f)"
   ]
  },
  {
   "cell_type": "code",
   "execution_count": null,
   "id": "65379b3c",
   "metadata": {},
   "outputs": [],
   "source": [
    "df = pd.DataFrame(data)\n",
    "\n",
    "if 'abstract' not in df.columns:\n",
    "    raise KeyError(\"'abstract' column not found in JSON.\")"
   ]
  },
  {
   "cell_type": "code",
   "execution_count": null,
   "id": "245e435a",
   "metadata": {},
   "outputs": [],
   "source": [
    "stemmer = PorterStemmer()\n",
    "stop_words = set(stopwords.words(\"english\"))"
   ]
  },
  {
   "cell_type": "code",
   "execution_count": null,
   "id": "e44780cd",
   "metadata": {},
   "outputs": [],
   "source": [
    "def preprocess_text(text):\n",
    "    tokens = nltk.word_tokenize(text.lower())\n",
    "    stemmed_tokens = [\n",
    "        stemmer.stem(word)\n",
    "        for word in tokens\n",
    "        if word.isalpha() and word not in stop_words\n",
    "    ]\n",
    "    return \" \".join(stemmed_tokens)"
   ]
  },
  {
   "cell_type": "code",
   "execution_count": null,
   "id": "6aa15597",
   "metadata": {},
   "outputs": [],
   "source": [
    "df['cleaned_abstract'] = df['abstract'].apply(preprocess_text)"
   ]
  },
  {
   "cell_type": "code",
   "execution_count": null,
   "id": "daeae02f",
   "metadata": {},
   "outputs": [],
   "source": [
    "print(\"\\n--- Before and After Preprocessing ---\")\n",
    "for i, row in df.head(5).iterrows():\n",
    "    print(f\"\\nData {i+1}:\")\n",
    "    print(\"Raw       :\", row['abstract'])\n",
    "    print(\"Cleaned   :\", row['cleaned_abstract'])"
   ]
  },
  {
   "cell_type": "code",
   "execution_count": null,
   "id": "37b13f68",
   "metadata": {},
   "outputs": [],
   "source": [
    "os.makedirs(os.path.dirname(clean_path), exist_ok=True)\n",
    "df[['cleaned_abstract']].to_json(clean_path, orient=\"records\", lines=False, indent=2)\n",
    "\n",
    "print(\"Preprocessing finished, saved to:\", clean_path)"
   ]
  }
 ],
 "metadata": {
  "kernelspec": {
   "display_name": "Python 3",
   "language": "python",
   "name": "python3"
  },
  "language_info": {
   "name": "python",
   "version": "3.11.5"
  }
 },
 "nbformat": 4,
 "nbformat_minor": 5
}
